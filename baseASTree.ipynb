{
 "cells": [
  {
   "cell_type": "code",
   "execution_count": 5,
   "metadata": {},
   "outputs": [
    {
     "name": "stdout",
     "output_type": "stream",
     "text": [
      "Module\n",
      "AugAssign\n",
      "Subscript\n",
      "Name\n",
      "Load\n",
      "Name\n",
      "Load\n",
      "Store\n",
      "Add\n",
      "Subscript\n",
      "Name\n",
      "Load\n",
      "Tuple\n",
      "Name\n",
      "Load\n",
      "Name\n",
      "Load\n",
      "Load\n",
      "Load\n"
     ]
    }
   ],
   "source": [
    "import ast\n",
    "\n",
    "#base example of the node visitor\n",
    "class v(ast.NodeVisitor):\n",
    "   def generic_visit(self, node):\n",
    "    print (type(node).__name__) #prints the type of value that is seen in the node\n",
    "    ast.NodeVisitor.generic_visit(self, node) #generic visit to the node(iterates) (recursive)\n",
    "\n",
    "x = v() #x is the function call\n",
    "t = ast.parse('d[x] += v[y, x]') #example of a bit of code we are testing\n",
    "x.visit(t) #call to generic_visit function"
   ]
  },
  {
   "cell_type": "code",
   "execution_count": 4,
   "metadata": {},
   "outputs": [
    {
     "name": "stdout",
     "output_type": "stream",
     "text": [
      "Module\n",
      "AugAssign\n",
      "Subscript\n",
      "Name\n",
      "Name\n",
      "Store\n",
      "Add\n",
      "Subscript\n",
      "Name\n",
      "Tuple\n",
      "Name\n",
      "Name\n"
     ]
    }
   ],
   "source": [
    "#example of node visitor that doesn't generic visit\n",
    "#This means that the Load node isn't printed \n",
    "\n",
    "class w(v):\n",
    "    def visit_Load(self, node): pass\n",
    "\n",
    "y = w()\n",
    "y.visit(t)"
   ]
  },
  {
   "cell_type": "code",
   "execution_count": 7,
   "metadata": {},
   "outputs": [
    {
     "name": "stdout",
     "output_type": "stream",
     "text": [
      "Module\n",
      "AugAssign\n",
      "Subscript\n",
      "Name: d\n",
      "Name: x\n",
      "Store\n",
      "Add\n",
      "Subscript\n",
      "Name: v\n",
      "Tuple\n",
      "Name: y\n",
      "Name: x\n",
      "Load\n",
      "Load\n"
     ]
    }
   ],
   "source": [
    "'''This example is the same as the above code, but we are finding the actual names of\n",
    "the values that are stored within the nodes themselves\n",
    "'''\n",
    "class z(v):\n",
    "    def visit_Name(self, node): print ('Name:', node.id)\n",
    "\n",
    "z().visit(t)"
   ]
  },
  {
   "cell_type": "code",
   "execution_count": 9,
   "metadata": {},
   "outputs": [
    {
     "name": "stdout",
     "output_type": "stream",
     "text": [
      "['d', 'v', 'x', 'y']\n"
     ]
    }
   ],
   "source": [
    "'''This is a combination, so instead of not using generic visit, we use it and \n",
    "store all values that it finds into a vector (Something we need for comparing)\n",
    "'''\n",
    "class allnames(ast.NodeVisitor):\n",
    "    def visit_Module(self, node):\n",
    "        self.names = set()\n",
    "        self.generic_visit(node)\n",
    "        print (sorted(self.names))\n",
    "    def visit_Name(self, node):\n",
    "        self.names.add(node.id)\n",
    "\n",
    "allnames().visit(t)"
   ]
  },
  {
   "cell_type": "code",
   "execution_count": 10,
   "metadata": {},
   "outputs": [
    {
     "name": "stdout",
     "output_type": "stream",
     "text": [
      "Module(body=[<ast.Expr object at 0x7efec82831f0>], type_ignores=[])\n",
      "  Expr(value=BinOp(op=Add()))\n",
      "    BinOp(op=Add())\n",
      "      Name(id='a', ctx=Load())\n",
      "        Load()\n",
      "      Add()\n",
      "      Name(id='b', ctx=Load())\n",
      "        Load()\n"
     ]
    }
   ],
   "source": [
    "'''if we want an output that more low level for the computer, we can opt for this \n",
    "route. This could also help with future comparing'''\n",
    "\n",
    "def str_node(node):\n",
    "    if isinstance(node, ast.AST):\n",
    "        fields = [(name, str_node(val)) for name, val in ast.iter_fields(node) if name not in ('left', 'right')]\n",
    "        rv = '%s(%s' % (node.__class__.__name__, ', '.join('%s=%s' % field for field in fields))\n",
    "        return rv + ')'\n",
    "    else:\n",
    "        return repr(node)\n",
    "def ast_visit(node, level=0):\n",
    "    print('  ' * level + str_node(node))\n",
    "    for field, value in ast.iter_fields(node):\n",
    "        if isinstance(value, list):\n",
    "            for item in value:\n",
    "                if isinstance(item, ast.AST):\n",
    "                    ast_visit(item, level=level+1)\n",
    "        elif isinstance(value, ast.AST):\n",
    "            ast_visit(value, level=level+1)\n",
    "\n",
    "\n",
    "ast_visit(ast.parse('a + b'))"
   ]
  }
 ],
 "metadata": {
  "kernelspec": {
   "display_name": "Python 3",
   "language": "python",
   "name": "python3"
  },
  "language_info": {
   "codemirror_mode": {
    "name": "ipython",
    "version": 3
   },
   "file_extension": ".py",
   "mimetype": "text/x-python",
   "name": "python",
   "nbconvert_exporter": "python",
   "pygments_lexer": "ipython3",
   "version": "3.10.6"
  }
 },
 "nbformat": 4,
 "nbformat_minor": 2
}
